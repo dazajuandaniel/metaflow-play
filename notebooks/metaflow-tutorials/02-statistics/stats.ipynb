{
 "cells": [
  {
   "cell_type": "markdown",
   "metadata": {},
   "source": [
    "# Episode 02: Is this Data Science?\n",
    "\n",
    "### MovieStatsFlow loads the movie metadata CSV file into a Pandas Dataframe and computes some movie genre specific statistics. You can use this notebook and the Metaflow client to eyeball the results and make some simple plots. "
   ]
  },
  {
   "cell_type": "markdown",
   "metadata": {},
   "source": [
    "## Import the metaflow client"
   ]
  },
  {
   "cell_type": "code",
   "execution_count": null,
   "metadata": {},
   "outputs": [],
   "source": [
    "from metaflow import Flow, get_metadata\n",
    "import matplotlib.pyplot as plt\n",
    "import pandas as pd\n",
    "print(\"Current metadata provider: %s\" % get_metadata())"
   ]
  },
  {
   "cell_type": "markdown",
   "metadata": {},
   "source": [
    "## Get the movie statistics from the latest run of MovieStatsFlow"
   ]
  },
  {
   "cell_type": "code",
   "execution_count": null,
   "metadata": {},
   "outputs": [],
   "source": [
    "run = Flow('MovieStatsFlow').latest_successful_run\n",
    "print(\"Using run: %s\" % str(run))\n",
    "\n",
    "genre_stats = run.data.genre_stats"
   ]
  },
  {
   "cell_type": "markdown",
   "metadata": {},
   "source": [
    "## Create a bar plot of the median gross box office for the top-5 grossing genres"
   ]
  },
  {
   "cell_type": "code",
   "execution_count": null,
   "metadata": {},
   "outputs": [],
   "source": [
    "# Get median for each genre\n",
    "data = [(genre, data['quartiles'][1]) \\\n",
    "        for genre, data \\\n",
    "        in genre_stats.items()]\n",
    "\n",
    "# Sort and unpack into a list of labels, and medians\n",
    "sorted_data = sorted(data, key = lambda pair: pair[1])\n",
    "genre, median = zip(*[(genre, median)\\\n",
    "                      for genre, median\\\n",
    "                      in sorted(data, key=lambda pair: pair[1])])\n",
    "\n",
    "# Create the bar plot\n",
    "plt.bar(genre[-5:], median[-5:], align='center', alpha=0.5)\n",
    "plt.ylabel(\"Gross Box office (US Dollars)\")\n",
    "plt.show()"
   ]
  },
  {
   "cell_type": "markdown",
   "metadata": {},
   "source": [
    "## Create a line plot of the gross box office for every decade for the top-5 grossing genres"
   ]
  },
  {
   "cell_type": "code",
   "execution_count": null,
   "metadata": {},
   "outputs": [],
   "source": [
    "top_genres=set(map(lambda x : x[0], sorted_data[-5:]))\n",
    "for genre in genre_stats.keys():\n",
    "    if genre not in top_genre:\n",
    "        continue\n",
    "    df = genre_stats[genre]['dataframe']\n",
    "    if 'title_year_by_decade' not in df:\n",
    "        print('Column: title_year_by_decade not found in df')\n",
    "        break\n",
    "    out = df.groupby('title_by_decade').sum()['gross'].plot(linewidth=10)\n",
    "    out.legend(list(top_genres))\n",
    "    out.set_xlim(1960,2020)"
   ]
  }
 ],
 "metadata": {
  "kernelspec": {
   "display_name": "Python 3",
   "language": "python",
   "name": "python3"
  },
  "language_info": {
   "codemirror_mode": {
    "name": "ipython",
    "version": 3
   },
   "file_extension": ".py",
   "mimetype": "text/x-python",
   "name": "python",
   "nbconvert_exporter": "python",
   "pygments_lexer": "ipython3",
   "version": "3.7.6"
  }
 },
 "nbformat": 4,
 "nbformat_minor": 2
}

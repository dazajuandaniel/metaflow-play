{
 "cells": [
  {
   "cell_type": "markdown",
   "id": "8d6d0352",
   "metadata": {},
   "source": [
    "# Sample Sequential Notebook\n",
    "Showcases the different steps taken in the Metaflow Flow"
   ]
  },
  {
   "cell_type": "code",
   "execution_count": null,
   "id": "fd9a8659",
   "metadata": {},
   "outputs": [],
   "source": [
    "# Extension Reloads\n",
    "%load_ext autoreload\n",
    "%autoreload 2\n",
    "\n",
    "import pandas as pd\n",
    "import numpy as np\n",
    "import re \n",
    "import sys\n",
    "sys.path.append(\"../src\")\n",
    "import preprocess as pp\n",
    "import utils as u\n",
    "import model_wide as m\n",
    "\n",
    "import tensorflow as tf\n",
    "import tensorflow_hub as hub\n",
    "from sklearn.model_selection import train_test_split"
   ]
  },
  {
   "cell_type": "code",
   "execution_count": null,
   "id": "9dd449bf",
   "metadata": {},
   "outputs": [],
   "source": [
    "from logger import get_logger\n",
    "loggy = get_logger(__name__)"
   ]
  },
  {
   "cell_type": "markdown",
   "id": "196ccb8d",
   "metadata": {},
   "source": [
    "### Process Data"
   ]
  },
  {
   "cell_type": "code",
   "execution_count": null,
   "id": "f6f6c46b",
   "metadata": {
    "scrolled": true
   },
   "outputs": [],
   "source": [
    "data = pd.read_csv(\"../data/consumer_complaints_with_narrative.csv\")"
   ]
  },
  {
   "cell_type": "markdown",
   "id": "a7609d4e",
   "metadata": {},
   "source": [
    "**One Hot Coding Features**"
   ]
  },
  {
   "cell_type": "code",
   "execution_count": null,
   "id": "4cb5cf0b",
   "metadata": {},
   "outputs": [],
   "source": [
    "one_hot_features = ['product', 'sub_product', 'company_response', 'state', 'issue']\n",
    "one_hot_df = data[one_hot_features].copy()"
   ]
  },
  {
   "cell_type": "code",
   "execution_count": null,
   "id": "6791fbc2",
   "metadata": {},
   "outputs": [],
   "source": [
    "one_hot_dict = {}\n",
    "for feature in one_hot_features:\n",
    "    one_hot_dict[feature] = one_hot_df[feature].nunique()\n",
    "    one_hot_df[feature] = one_hot_df[feature].astype(\"category\").cat.codes"
   ]
  },
  {
   "cell_type": "markdown",
   "id": "184ecd3d",
   "metadata": {},
   "source": [
    "**Numeric Features**"
   ]
  },
  {
   "cell_type": "code",
   "execution_count": null,
   "id": "3253b8b7",
   "metadata": {},
   "outputs": [],
   "source": [
    "numeric_features = ['zip_code']\n",
    "numeric_features_df = data.copy()"
   ]
  },
  {
   "cell_type": "code",
   "execution_count": null,
   "id": "36c816af",
   "metadata": {
    "scrolled": true
   },
   "outputs": [],
   "source": [
    "numeric_features_df = pp.change_zipcode_col(numeric_features_df)"
   ]
  },
  {
   "cell_type": "markdown",
   "id": "af91baf3",
   "metadata": {},
   "source": [
    "**Text Features**"
   ]
  },
  {
   "cell_type": "code",
   "execution_count": null,
   "id": "e554c983",
   "metadata": {},
   "outputs": [],
   "source": [
    "text_features = ['consumer_complaint_narrative']\n",
    "text_features_df = data[text_features].copy()"
   ]
  },
  {
   "cell_type": "markdown",
   "id": "a5894268",
   "metadata": {},
   "source": [
    "**Label**"
   ]
  },
  {
   "cell_type": "code",
   "execution_count": null,
   "id": "636ddf02",
   "metadata": {},
   "outputs": [],
   "source": [
    "y = np.asarray(data[\"consumer_disputed\"], dtype=np.uint8).reshape(-1)"
   ]
  },
  {
   "cell_type": "markdown",
   "id": "95ca1a5e",
   "metadata": {},
   "source": [
    "### Train Test Data"
   ]
  },
  {
   "cell_type": "code",
   "execution_count": null,
   "id": "920964d6",
   "metadata": {},
   "outputs": [],
   "source": [
    "raw_x = pd.concat([text_features_df,\n",
    "                   one_hot_df,\n",
    "                   numeric_features_df['zip_code']],axis=1)"
   ]
  },
  {
   "cell_type": "code",
   "execution_count": null,
   "id": "97848033",
   "metadata": {},
   "outputs": [],
   "source": [
    "X_train, X_test, y_train, y_test = train_test_split(raw_x, y,\n",
    "                                                    test_size=0.2, random_state=42)"
   ]
  },
  {
   "cell_type": "markdown",
   "id": "c1f30fed",
   "metadata": {},
   "source": [
    "**Train**"
   ]
  },
  {
   "cell_type": "code",
   "execution_count": null,
   "id": "ecee2b96",
   "metadata": {},
   "outputs": [],
   "source": [
    "one_hot_train = pp.get_one_hot_vector(X_train, one_hot_features)\n",
    "numeric_train = [X_train['zip_code'].values]\n",
    "embedding_train = pp.get_text_embedding(X_train, text_features)\n",
    "\n",
    "Xtrain = one_hot_train + numeric_train + embedding_train\n",
    "ytrain = y_train"
   ]
  },
  {
   "cell_type": "markdown",
   "id": "1aa840e3",
   "metadata": {},
   "source": [
    "**Test**"
   ]
  },
  {
   "cell_type": "code",
   "execution_count": null,
   "id": "520af8d9",
   "metadata": {},
   "outputs": [],
   "source": [
    "one_hot_test = pp.get_one_hot_vector(X_test, one_hot_features)\n",
    "numeric_test = [X_test['zip_code'].values]\n",
    "embedding_test = pp.get_text_embedding(X_test, text_features)\n",
    "\n",
    "Xtest = one_hot_test + numeric_test + embedding_test\n",
    "ytest = y_test"
   ]
  },
  {
   "cell_type": "markdown",
   "id": "0a6ac155",
   "metadata": {},
   "source": [
    "### Model Train"
   ]
  },
  {
   "cell_type": "code",
   "execution_count": null,
   "id": "b1af3f61",
   "metadata": {},
   "outputs": [],
   "source": [
    "import mlflow\n",
    "import mlflow.tensorflow\n",
    "mlflow.tensorflow.autolog()\n",
    "mlflow.set_tracking_uri(\"../logs/mlflow/mlruns\")\n",
    "\n",
    "experiment_id = mlflow.create_experiment(\"MetaFlow\")"
   ]
  },
  {
   "cell_type": "code",
   "execution_count": null,
   "id": "783a4cca",
   "metadata": {
    "scrolled": true
   },
   "outputs": [],
   "source": [
    "with mlflow.start_run(experiment_id = experiment_id):\n",
    "    \n",
    "    # Log the Data Dict\n",
    "    mlflow.log_params(one_hot_dict)\n",
    "    \n",
    "    # Create the Model & Callbacks\n",
    "    model = m.get_model(show_summary=True, num_params = one_hot_dict)\n",
    "    \n",
    "    checkpoint_cb = tf.keras.callbacks.ModelCheckpoint(\"../models/TensorflowPipeline.h5\",\n",
    "                                                       save_best_only=True)\n",
    "\n",
    "    tensorboard_cb = tf.keras.callbacks.TensorBoard(u.get_run_logdir())\n",
    "\n",
    "    # Train Model\n",
    "    model.fit(x=Xtrain, y=ytrain ,batch_size = 32,validation_split=0.2, epochs=5,\n",
    "              callbacks=[checkpoint_cb,tensorboard_cb])"
   ]
  },
  {
   "cell_type": "markdown",
   "id": "5354d0b2",
   "metadata": {},
   "source": [
    "### Model Evaluation"
   ]
  },
  {
   "cell_type": "code",
   "execution_count": null,
   "id": "34c5f643",
   "metadata": {
    "scrolled": true
   },
   "outputs": [],
   "source": [
    "model = tf.keras.models.load_model(\"../models/TensorflowPipeline.h5\", custom_objects={'KerasLayer':hub.KerasLayer})\n",
    "scores = model.evaluate(Xtest, ytest, verbose = 1)"
   ]
  },
  {
   "cell_type": "code",
   "execution_count": null,
   "id": "7549521e",
   "metadata": {},
   "outputs": [],
   "source": [
    "{metric_n:score for metric_n, score in zip(model.metrics_names,scores)}"
   ]
  }
 ],
 "metadata": {
  "kernelspec": {
   "display_name": "Python 3",
   "language": "python",
   "name": "python3"
  },
  "language_info": {
   "codemirror_mode": {
    "name": "ipython",
    "version": 3
   },
   "file_extension": ".py",
   "mimetype": "text/x-python",
   "name": "python",
   "nbconvert_exporter": "python",
   "pygments_lexer": "ipython3",
   "version": "3.8.5"
  }
 },
 "nbformat": 4,
 "nbformat_minor": 5
}

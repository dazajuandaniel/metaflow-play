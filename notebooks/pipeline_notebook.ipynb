{
 "cells": [
  {
   "cell_type": "markdown",
   "id": "8d6d0352",
   "metadata": {},
   "source": [
    "# Sample Notebook\n",
    "Showcases the different steps taken in the Metaflow Flow"
   ]
  },
  {
   "cell_type": "code",
   "execution_count": 1,
   "id": "fd9a8659",
   "metadata": {},
   "outputs": [],
   "source": [
    "# Extension Reloads\n",
    "%load_ext autoreload\n",
    "%autoreload 2\n",
    "\n",
    "import pandas as pd\n",
    "import numpy as np\n",
    "import re \n",
    "import sys\n",
    "sys.path.append(\"../src\")\n",
    "import preprocess as pre\n",
    "import utils as u\n",
    "\n",
    "import tensorflow as tf\n",
    "from sklearn.model_selection import train_test_split"
   ]
  },
  {
   "cell_type": "markdown",
   "id": "196ccb8d",
   "metadata": {},
   "source": [
    "### Process Data"
   ]
  },
  {
   "cell_type": "code",
   "execution_count": 3,
   "id": "f6f6c46b",
   "metadata": {
    "scrolled": true
   },
   "outputs": [],
   "source": [
    "#data = pd.read_csv(\"../data/complaints.csv\")\n",
    "data = pd.read_csv(\"../data/consumer_complaints_with_narrative.csv\")\n",
    "#data = pd.read_csv(\"../data/archive/consumer_complaints.csv\")"
   ]
  },
  {
   "cell_type": "code",
   "execution_count": 30,
   "id": "bb7f7bb8",
   "metadata": {},
   "outputs": [],
   "source": [
    "from sklearn.model_selection import train_test_split\n",
    "X_train, X_test, y_train, y_test = train_test_split(data, data['consumer_disputed'].values, \n",
    "                                                                                test_size=0.2, random_state=42)"
   ]
  },
  {
   "cell_type": "code",
   "execution_count": 32,
   "id": "36b2a6c3",
   "metadata": {
    "scrolled": true
   },
   "outputs": [
    {
     "data": {
      "text/html": [
       "<div>\n",
       "<style scoped>\n",
       "    .dataframe tbody tr th:only-of-type {\n",
       "        vertical-align: middle;\n",
       "    }\n",
       "\n",
       "    .dataframe tbody tr th {\n",
       "        vertical-align: top;\n",
       "    }\n",
       "\n",
       "    .dataframe thead th {\n",
       "        text-align: right;\n",
       "    }\n",
       "</style>\n",
       "<table border=\"1\" class=\"dataframe\">\n",
       "  <thead>\n",
       "    <tr style=\"text-align: right;\">\n",
       "      <th></th>\n",
       "      <th>product</th>\n",
       "      <th>sub_product</th>\n",
       "      <th>issue</th>\n",
       "      <th>sub_issue</th>\n",
       "      <th>consumer_complaint_narrative</th>\n",
       "      <th>company</th>\n",
       "      <th>state</th>\n",
       "      <th>zip_code</th>\n",
       "      <th>company_response</th>\n",
       "      <th>timely_response</th>\n",
       "      <th>consumer_disputed</th>\n",
       "    </tr>\n",
       "  </thead>\n",
       "  <tbody>\n",
       "    <tr>\n",
       "      <th>11710</th>\n",
       "      <td>Credit card</td>\n",
       "      <td>NaN</td>\n",
       "      <td>Identity theft / Fraud / Embezzlement</td>\n",
       "      <td>NaN</td>\n",
       "      <td>I received a call from this phone # saying tha...</td>\n",
       "      <td>Capital One</td>\n",
       "      <td>MS</td>\n",
       "      <td>392XX</td>\n",
       "      <td>Closed with explanation</td>\n",
       "      <td>Yes</td>\n",
       "      <td>0</td>\n",
       "    </tr>\n",
       "    <tr>\n",
       "      <th>10230</th>\n",
       "      <td>Credit card</td>\n",
       "      <td>NaN</td>\n",
       "      <td>Other</td>\n",
       "      <td>NaN</td>\n",
       "      <td>I started using this service on XXXX as i have...</td>\n",
       "      <td>PayPal Holdings, Inc.</td>\n",
       "      <td>OH</td>\n",
       "      <td>440XX</td>\n",
       "      <td>Closed with explanation</td>\n",
       "      <td>Yes</td>\n",
       "      <td>0</td>\n",
       "    </tr>\n",
       "    <tr>\n",
       "      <th>19574</th>\n",
       "      <td>Debt collection</td>\n",
       "      <td>I do not know</td>\n",
       "      <td>Disclosure verification of debt</td>\n",
       "      <td>Right to dispute notice not received</td>\n",
       "      <td>Hi i am trying to get some help in reaching ou...</td>\n",
       "      <td>Encore Capital Group</td>\n",
       "      <td>CA</td>\n",
       "      <td>951XX</td>\n",
       "      <td>Closed with explanation</td>\n",
       "      <td>Yes</td>\n",
       "      <td>0</td>\n",
       "    </tr>\n",
       "    <tr>\n",
       "      <th>23011</th>\n",
       "      <td>Prepaid card</td>\n",
       "      <td>General purpose card</td>\n",
       "      <td>Fraud or scam</td>\n",
       "      <td>NaN</td>\n",
       "      <td>I 've been a client of Rush card for 5 years a...</td>\n",
       "      <td>Empowerment Ventures, LLC</td>\n",
       "      <td>MD</td>\n",
       "      <td>207XX</td>\n",
       "      <td>Closed with non-monetary relief</td>\n",
       "      <td>Yes</td>\n",
       "      <td>0</td>\n",
       "    </tr>\n",
       "    <tr>\n",
       "      <th>44707</th>\n",
       "      <td>Debt collection</td>\n",
       "      <td>I do not know</td>\n",
       "      <td>Communication tactics</td>\n",
       "      <td>Called after sent written cease of comm</td>\n",
       "      <td>Enhanced recovery systems called my job XXXX w...</td>\n",
       "      <td>ERC</td>\n",
       "      <td>NY</td>\n",
       "      <td>100XX</td>\n",
       "      <td>Closed with non-monetary relief</td>\n",
       "      <td>Yes</td>\n",
       "      <td>0</td>\n",
       "    </tr>\n",
       "  </tbody>\n",
       "</table>\n",
       "</div>"
      ],
      "text/plain": [
       "               product           sub_product  \\\n",
       "11710      Credit card                   NaN   \n",
       "10230      Credit card                   NaN   \n",
       "19574  Debt collection         I do not know   \n",
       "23011     Prepaid card  General purpose card   \n",
       "44707  Debt collection         I do not know   \n",
       "\n",
       "                                       issue  \\\n",
       "11710  Identity theft / Fraud / Embezzlement   \n",
       "10230                                  Other   \n",
       "19574        Disclosure verification of debt   \n",
       "23011                          Fraud or scam   \n",
       "44707                  Communication tactics   \n",
       "\n",
       "                                     sub_issue  \\\n",
       "11710                                      NaN   \n",
       "10230                                      NaN   \n",
       "19574     Right to dispute notice not received   \n",
       "23011                                      NaN   \n",
       "44707  Called after sent written cease of comm   \n",
       "\n",
       "                            consumer_complaint_narrative  \\\n",
       "11710  I received a call from this phone # saying tha...   \n",
       "10230  I started using this service on XXXX as i have...   \n",
       "19574  Hi i am trying to get some help in reaching ou...   \n",
       "23011  I 've been a client of Rush card for 5 years a...   \n",
       "44707  Enhanced recovery systems called my job XXXX w...   \n",
       "\n",
       "                         company state zip_code  \\\n",
       "11710                Capital One    MS    392XX   \n",
       "10230      PayPal Holdings, Inc.    OH    440XX   \n",
       "19574       Encore Capital Group    CA    951XX   \n",
       "23011  Empowerment Ventures, LLC    MD    207XX   \n",
       "44707                        ERC    NY    100XX   \n",
       "\n",
       "                      company_response timely_response  consumer_disputed  \n",
       "11710          Closed with explanation             Yes                  0  \n",
       "10230          Closed with explanation             Yes                  0  \n",
       "19574          Closed with explanation             Yes                  0  \n",
       "23011  Closed with non-monetary relief             Yes                  0  \n",
       "44707  Closed with non-monetary relief             Yes                  0  "
      ]
     },
     "execution_count": 32,
     "metadata": {},
     "output_type": "execute_result"
    }
   ],
   "source": [
    "X_train.head()"
   ]
  },
  {
   "cell_type": "code",
   "execution_count": 27,
   "id": "725c9359",
   "metadata": {
    "scrolled": true
   },
   "outputs": [
    {
     "ename": "ValueError",
     "evalue": "invalid literal for int() with base 10: 'Credit card'",
     "output_type": "error",
     "traceback": [
      "\u001b[0;31m---------------------------------------------------------------------------\u001b[0m",
      "\u001b[0;31mValueError\u001b[0m                                Traceback (most recent call last)",
      "\u001b[0;32m<ipython-input-27-21a2a559130e>\u001b[0m in \u001b[0;36m<module>\u001b[0;34m\u001b[0m\n\u001b[0;32m----> 1\u001b[0;31m \u001b[0mdata\u001b[0m\u001b[0;34m.\u001b[0m\u001b[0miloc\u001b[0m\u001b[0;34m[\u001b[0m\u001b[0mX_train\u001b[0m\u001b[0;34m]\u001b[0m\u001b[0;34m.\u001b[0m\u001b[0mshape\u001b[0m\u001b[0;34m\u001b[0m\u001b[0;34m\u001b[0m\u001b[0m\n\u001b[0m",
      "\u001b[0;32m/mnt/c/Users/dazaj/OneDrive/Documents/Programming/metaflow-play/venv/metaflow/lib/python3.8/site-packages/pandas/core/indexing.py\u001b[0m in \u001b[0;36m__getitem__\u001b[0;34m(self, key)\u001b[0m\n\u001b[1;32m    893\u001b[0m \u001b[0;34m\u001b[0m\u001b[0m\n\u001b[1;32m    894\u001b[0m             \u001b[0mmaybe_callable\u001b[0m \u001b[0;34m=\u001b[0m \u001b[0mcom\u001b[0m\u001b[0;34m.\u001b[0m\u001b[0mapply_if_callable\u001b[0m\u001b[0;34m(\u001b[0m\u001b[0mkey\u001b[0m\u001b[0;34m,\u001b[0m \u001b[0mself\u001b[0m\u001b[0;34m.\u001b[0m\u001b[0mobj\u001b[0m\u001b[0;34m)\u001b[0m\u001b[0;34m\u001b[0m\u001b[0;34m\u001b[0m\u001b[0m\n\u001b[0;32m--> 895\u001b[0;31m             \u001b[0;32mreturn\u001b[0m \u001b[0mself\u001b[0m\u001b[0;34m.\u001b[0m\u001b[0m_getitem_axis\u001b[0m\u001b[0;34m(\u001b[0m\u001b[0mmaybe_callable\u001b[0m\u001b[0;34m,\u001b[0m \u001b[0maxis\u001b[0m\u001b[0;34m=\u001b[0m\u001b[0maxis\u001b[0m\u001b[0;34m)\u001b[0m\u001b[0;34m\u001b[0m\u001b[0;34m\u001b[0m\u001b[0m\n\u001b[0m\u001b[1;32m    896\u001b[0m \u001b[0;34m\u001b[0m\u001b[0m\n\u001b[1;32m    897\u001b[0m     \u001b[0;32mdef\u001b[0m \u001b[0m_is_scalar_access\u001b[0m\u001b[0;34m(\u001b[0m\u001b[0mself\u001b[0m\u001b[0;34m,\u001b[0m \u001b[0mkey\u001b[0m\u001b[0;34m:\u001b[0m \u001b[0mTuple\u001b[0m\u001b[0;34m)\u001b[0m\u001b[0;34m:\u001b[0m\u001b[0;34m\u001b[0m\u001b[0;34m\u001b[0m\u001b[0m\n",
      "\u001b[0;32m/mnt/c/Users/dazaj/OneDrive/Documents/Programming/metaflow-play/venv/metaflow/lib/python3.8/site-packages/pandas/core/indexing.py\u001b[0m in \u001b[0;36m_getitem_axis\u001b[0;34m(self, key, axis)\u001b[0m\n\u001b[1;32m   1490\u001b[0m         \u001b[0;31m# a list of integers\u001b[0m\u001b[0;34m\u001b[0m\u001b[0;34m\u001b[0m\u001b[0;34m\u001b[0m\u001b[0m\n\u001b[1;32m   1491\u001b[0m         \u001b[0;32melif\u001b[0m \u001b[0mis_list_like_indexer\u001b[0m\u001b[0;34m(\u001b[0m\u001b[0mkey\u001b[0m\u001b[0;34m)\u001b[0m\u001b[0;34m:\u001b[0m\u001b[0;34m\u001b[0m\u001b[0;34m\u001b[0m\u001b[0m\n\u001b[0;32m-> 1492\u001b[0;31m             \u001b[0;32mreturn\u001b[0m \u001b[0mself\u001b[0m\u001b[0;34m.\u001b[0m\u001b[0m_get_list_axis\u001b[0m\u001b[0;34m(\u001b[0m\u001b[0mkey\u001b[0m\u001b[0;34m,\u001b[0m \u001b[0maxis\u001b[0m\u001b[0;34m=\u001b[0m\u001b[0maxis\u001b[0m\u001b[0;34m)\u001b[0m\u001b[0;34m\u001b[0m\u001b[0;34m\u001b[0m\u001b[0m\n\u001b[0m\u001b[1;32m   1493\u001b[0m \u001b[0;34m\u001b[0m\u001b[0m\n\u001b[1;32m   1494\u001b[0m         \u001b[0;31m# a single integer\u001b[0m\u001b[0;34m\u001b[0m\u001b[0;34m\u001b[0m\u001b[0;34m\u001b[0m\u001b[0m\n",
      "\u001b[0;32m/mnt/c/Users/dazaj/OneDrive/Documents/Programming/metaflow-play/venv/metaflow/lib/python3.8/site-packages/pandas/core/indexing.py\u001b[0m in \u001b[0;36m_get_list_axis\u001b[0;34m(self, key, axis)\u001b[0m\n\u001b[1;32m   1472\u001b[0m         \"\"\"\n\u001b[1;32m   1473\u001b[0m         \u001b[0;32mtry\u001b[0m\u001b[0;34m:\u001b[0m\u001b[0;34m\u001b[0m\u001b[0;34m\u001b[0m\u001b[0m\n\u001b[0;32m-> 1474\u001b[0;31m             \u001b[0;32mreturn\u001b[0m \u001b[0mself\u001b[0m\u001b[0;34m.\u001b[0m\u001b[0mobj\u001b[0m\u001b[0;34m.\u001b[0m\u001b[0m_take_with_is_copy\u001b[0m\u001b[0;34m(\u001b[0m\u001b[0mkey\u001b[0m\u001b[0;34m,\u001b[0m \u001b[0maxis\u001b[0m\u001b[0;34m=\u001b[0m\u001b[0maxis\u001b[0m\u001b[0;34m)\u001b[0m\u001b[0;34m\u001b[0m\u001b[0;34m\u001b[0m\u001b[0m\n\u001b[0m\u001b[1;32m   1475\u001b[0m         \u001b[0;32mexcept\u001b[0m \u001b[0mIndexError\u001b[0m \u001b[0;32mas\u001b[0m \u001b[0merr\u001b[0m\u001b[0;34m:\u001b[0m\u001b[0;34m\u001b[0m\u001b[0;34m\u001b[0m\u001b[0m\n\u001b[1;32m   1476\u001b[0m             \u001b[0;31m# re-raise with different error message\u001b[0m\u001b[0;34m\u001b[0m\u001b[0;34m\u001b[0m\u001b[0;34m\u001b[0m\u001b[0m\n",
      "\u001b[0;32m/mnt/c/Users/dazaj/OneDrive/Documents/Programming/metaflow-play/venv/metaflow/lib/python3.8/site-packages/pandas/core/generic.py\u001b[0m in \u001b[0;36m_take_with_is_copy\u001b[0;34m(self, indices, axis)\u001b[0m\n\u001b[1;32m   3598\u001b[0m         \u001b[0mSee\u001b[0m \u001b[0mthe\u001b[0m \u001b[0mdocstring\u001b[0m \u001b[0mof\u001b[0m\u001b[0;31m \u001b[0m\u001b[0;31m`\u001b[0m\u001b[0mtake\u001b[0m\u001b[0;31m`\u001b[0m \u001b[0;32mfor\u001b[0m \u001b[0mfull\u001b[0m \u001b[0mexplanation\u001b[0m \u001b[0mof\u001b[0m \u001b[0mthe\u001b[0m \u001b[0mparameters\u001b[0m\u001b[0;34m.\u001b[0m\u001b[0;34m\u001b[0m\u001b[0;34m\u001b[0m\u001b[0m\n\u001b[1;32m   3599\u001b[0m         \"\"\"\n\u001b[0;32m-> 3600\u001b[0;31m         \u001b[0mresult\u001b[0m \u001b[0;34m=\u001b[0m \u001b[0mself\u001b[0m\u001b[0;34m.\u001b[0m\u001b[0mtake\u001b[0m\u001b[0;34m(\u001b[0m\u001b[0mindices\u001b[0m\u001b[0;34m=\u001b[0m\u001b[0mindices\u001b[0m\u001b[0;34m,\u001b[0m \u001b[0maxis\u001b[0m\u001b[0;34m=\u001b[0m\u001b[0maxis\u001b[0m\u001b[0;34m)\u001b[0m\u001b[0;34m\u001b[0m\u001b[0;34m\u001b[0m\u001b[0m\n\u001b[0m\u001b[1;32m   3601\u001b[0m         \u001b[0;31m# Maybe set copy if we didn't actually change the index.\u001b[0m\u001b[0;34m\u001b[0m\u001b[0;34m\u001b[0m\u001b[0;34m\u001b[0m\u001b[0m\n\u001b[1;32m   3602\u001b[0m         \u001b[0;32mif\u001b[0m \u001b[0;32mnot\u001b[0m \u001b[0mresult\u001b[0m\u001b[0;34m.\u001b[0m\u001b[0m_get_axis\u001b[0m\u001b[0;34m(\u001b[0m\u001b[0maxis\u001b[0m\u001b[0;34m)\u001b[0m\u001b[0;34m.\u001b[0m\u001b[0mequals\u001b[0m\u001b[0;34m(\u001b[0m\u001b[0mself\u001b[0m\u001b[0;34m.\u001b[0m\u001b[0m_get_axis\u001b[0m\u001b[0;34m(\u001b[0m\u001b[0maxis\u001b[0m\u001b[0;34m)\u001b[0m\u001b[0;34m)\u001b[0m\u001b[0;34m:\u001b[0m\u001b[0;34m\u001b[0m\u001b[0;34m\u001b[0m\u001b[0m\n",
      "\u001b[0;32m/mnt/c/Users/dazaj/OneDrive/Documents/Programming/metaflow-play/venv/metaflow/lib/python3.8/site-packages/pandas/core/generic.py\u001b[0m in \u001b[0;36mtake\u001b[0;34m(self, indices, axis, is_copy, **kwargs)\u001b[0m\n\u001b[1;32m   3584\u001b[0m         \u001b[0mself\u001b[0m\u001b[0;34m.\u001b[0m\u001b[0m_consolidate_inplace\u001b[0m\u001b[0;34m(\u001b[0m\u001b[0;34m)\u001b[0m\u001b[0;34m\u001b[0m\u001b[0;34m\u001b[0m\u001b[0m\n\u001b[1;32m   3585\u001b[0m \u001b[0;34m\u001b[0m\u001b[0m\n\u001b[0;32m-> 3586\u001b[0;31m         new_data = self._mgr.take(\n\u001b[0m\u001b[1;32m   3587\u001b[0m             \u001b[0mindices\u001b[0m\u001b[0;34m,\u001b[0m \u001b[0maxis\u001b[0m\u001b[0;34m=\u001b[0m\u001b[0mself\u001b[0m\u001b[0;34m.\u001b[0m\u001b[0m_get_block_manager_axis\u001b[0m\u001b[0;34m(\u001b[0m\u001b[0maxis\u001b[0m\u001b[0;34m)\u001b[0m\u001b[0;34m,\u001b[0m \u001b[0mverify\u001b[0m\u001b[0;34m=\u001b[0m\u001b[0;32mTrue\u001b[0m\u001b[0;34m\u001b[0m\u001b[0;34m\u001b[0m\u001b[0m\n\u001b[1;32m   3588\u001b[0m         )\n",
      "\u001b[0;32m/mnt/c/Users/dazaj/OneDrive/Documents/Programming/metaflow-play/venv/metaflow/lib/python3.8/site-packages/pandas/core/internals/managers.py\u001b[0m in \u001b[0;36mtake\u001b[0;34m(self, indexer, axis, verify, convert)\u001b[0m\n\u001b[1;32m   1460\u001b[0m             \u001b[0mnp\u001b[0m\u001b[0;34m.\u001b[0m\u001b[0marange\u001b[0m\u001b[0;34m(\u001b[0m\u001b[0mindexer\u001b[0m\u001b[0;34m.\u001b[0m\u001b[0mstart\u001b[0m\u001b[0;34m,\u001b[0m \u001b[0mindexer\u001b[0m\u001b[0;34m.\u001b[0m\u001b[0mstop\u001b[0m\u001b[0;34m,\u001b[0m \u001b[0mindexer\u001b[0m\u001b[0;34m.\u001b[0m\u001b[0mstep\u001b[0m\u001b[0;34m,\u001b[0m \u001b[0mdtype\u001b[0m\u001b[0;34m=\u001b[0m\u001b[0;34m\"int64\"\u001b[0m\u001b[0;34m)\u001b[0m\u001b[0;34m\u001b[0m\u001b[0;34m\u001b[0m\u001b[0m\n\u001b[1;32m   1461\u001b[0m             \u001b[0;32mif\u001b[0m \u001b[0misinstance\u001b[0m\u001b[0;34m(\u001b[0m\u001b[0mindexer\u001b[0m\u001b[0;34m,\u001b[0m \u001b[0mslice\u001b[0m\u001b[0;34m)\u001b[0m\u001b[0;34m\u001b[0m\u001b[0;34m\u001b[0m\u001b[0m\n\u001b[0;32m-> 1462\u001b[0;31m             \u001b[0;32melse\u001b[0m \u001b[0mnp\u001b[0m\u001b[0;34m.\u001b[0m\u001b[0masanyarray\u001b[0m\u001b[0;34m(\u001b[0m\u001b[0mindexer\u001b[0m\u001b[0;34m,\u001b[0m \u001b[0mdtype\u001b[0m\u001b[0;34m=\u001b[0m\u001b[0;34m\"int64\"\u001b[0m\u001b[0;34m)\u001b[0m\u001b[0;34m\u001b[0m\u001b[0;34m\u001b[0m\u001b[0m\n\u001b[0m\u001b[1;32m   1463\u001b[0m         )\n\u001b[1;32m   1464\u001b[0m \u001b[0;34m\u001b[0m\u001b[0m\n",
      "\u001b[0;32m/mnt/c/Users/dazaj/OneDrive/Documents/Programming/metaflow-play/venv/metaflow/lib/python3.8/site-packages/numpy/core/_asarray.py\u001b[0m in \u001b[0;36masanyarray\u001b[0;34m(a, dtype, order)\u001b[0m\n\u001b[1;32m    134\u001b[0m \u001b[0;34m\u001b[0m\u001b[0m\n\u001b[1;32m    135\u001b[0m     \"\"\"\n\u001b[0;32m--> 136\u001b[0;31m     \u001b[0;32mreturn\u001b[0m \u001b[0marray\u001b[0m\u001b[0;34m(\u001b[0m\u001b[0ma\u001b[0m\u001b[0;34m,\u001b[0m \u001b[0mdtype\u001b[0m\u001b[0;34m,\u001b[0m \u001b[0mcopy\u001b[0m\u001b[0;34m=\u001b[0m\u001b[0;32mFalse\u001b[0m\u001b[0;34m,\u001b[0m \u001b[0morder\u001b[0m\u001b[0;34m=\u001b[0m\u001b[0morder\u001b[0m\u001b[0;34m,\u001b[0m \u001b[0msubok\u001b[0m\u001b[0;34m=\u001b[0m\u001b[0;32mTrue\u001b[0m\u001b[0;34m)\u001b[0m\u001b[0;34m\u001b[0m\u001b[0;34m\u001b[0m\u001b[0m\n\u001b[0m\u001b[1;32m    137\u001b[0m \u001b[0;34m\u001b[0m\u001b[0m\n\u001b[1;32m    138\u001b[0m \u001b[0;34m\u001b[0m\u001b[0m\n",
      "\u001b[0;32m/mnt/c/Users/dazaj/OneDrive/Documents/Programming/metaflow-play/venv/metaflow/lib/python3.8/site-packages/pandas/core/generic.py\u001b[0m in \u001b[0;36m__array__\u001b[0;34m(self, dtype)\u001b[0m\n\u001b[1;32m   1897\u001b[0m \u001b[0;34m\u001b[0m\u001b[0m\n\u001b[1;32m   1898\u001b[0m     \u001b[0;32mdef\u001b[0m \u001b[0m__array__\u001b[0m\u001b[0;34m(\u001b[0m\u001b[0mself\u001b[0m\u001b[0;34m,\u001b[0m \u001b[0mdtype\u001b[0m\u001b[0;34m=\u001b[0m\u001b[0;32mNone\u001b[0m\u001b[0;34m)\u001b[0m \u001b[0;34m->\u001b[0m \u001b[0mnp\u001b[0m\u001b[0;34m.\u001b[0m\u001b[0mndarray\u001b[0m\u001b[0;34m:\u001b[0m\u001b[0;34m\u001b[0m\u001b[0;34m\u001b[0m\u001b[0m\n\u001b[0;32m-> 1899\u001b[0;31m         \u001b[0;32mreturn\u001b[0m \u001b[0mnp\u001b[0m\u001b[0;34m.\u001b[0m\u001b[0masarray\u001b[0m\u001b[0;34m(\u001b[0m\u001b[0mself\u001b[0m\u001b[0;34m.\u001b[0m\u001b[0m_values\u001b[0m\u001b[0;34m,\u001b[0m \u001b[0mdtype\u001b[0m\u001b[0;34m=\u001b[0m\u001b[0mdtype\u001b[0m\u001b[0;34m)\u001b[0m\u001b[0;34m\u001b[0m\u001b[0;34m\u001b[0m\u001b[0m\n\u001b[0m\u001b[1;32m   1900\u001b[0m \u001b[0;34m\u001b[0m\u001b[0m\n\u001b[1;32m   1901\u001b[0m     def __array_wrap__(\n",
      "\u001b[0;32m/mnt/c/Users/dazaj/OneDrive/Documents/Programming/metaflow-play/venv/metaflow/lib/python3.8/site-packages/numpy/core/_asarray.py\u001b[0m in \u001b[0;36masarray\u001b[0;34m(a, dtype, order)\u001b[0m\n\u001b[1;32m     81\u001b[0m \u001b[0;34m\u001b[0m\u001b[0m\n\u001b[1;32m     82\u001b[0m     \"\"\"\n\u001b[0;32m---> 83\u001b[0;31m     \u001b[0;32mreturn\u001b[0m \u001b[0marray\u001b[0m\u001b[0;34m(\u001b[0m\u001b[0ma\u001b[0m\u001b[0;34m,\u001b[0m \u001b[0mdtype\u001b[0m\u001b[0;34m,\u001b[0m \u001b[0mcopy\u001b[0m\u001b[0;34m=\u001b[0m\u001b[0;32mFalse\u001b[0m\u001b[0;34m,\u001b[0m \u001b[0morder\u001b[0m\u001b[0;34m=\u001b[0m\u001b[0morder\u001b[0m\u001b[0;34m)\u001b[0m\u001b[0;34m\u001b[0m\u001b[0;34m\u001b[0m\u001b[0m\n\u001b[0m\u001b[1;32m     84\u001b[0m \u001b[0;34m\u001b[0m\u001b[0m\n\u001b[1;32m     85\u001b[0m \u001b[0;34m\u001b[0m\u001b[0m\n",
      "\u001b[0;31mValueError\u001b[0m: invalid literal for int() with base 10: 'Credit card'"
     ]
    }
   ],
   "source": [
    "data.iloc[X_train].shape"
   ]
  },
  {
   "cell_type": "code",
   "execution_count": null,
   "id": "4ee0b100",
   "metadata": {},
   "outputs": [],
   "source": []
  },
  {
   "cell_type": "code",
   "execution_count": null,
   "id": "1bd05e9a",
   "metadata": {},
   "outputs": [],
   "source": []
  },
  {
   "cell_type": "code",
   "execution_count": 4,
   "id": "ffd7e934",
   "metadata": {},
   "outputs": [],
   "source": [
    "numeric_features_df = data.copy()\n",
    "numeric_features_df['zip_code'] = numeric_features_df['zip_code'].str.replace('X', '0', regex=True)\n",
    "numeric_features_df['zip_code'] = numeric_features_df['zip_code'].str.replace(r'\\[|\\*|\\+|\\-|`|\\.|\\ |\\$|\\/|!|\\(', '0', regex=True)\n",
    "numeric_features_df['zip_code'] = numeric_features_df['zip_code'].fillna(0)\n",
    "numeric_features_df['zip_code'] = numeric_features_df['zip_code'].astype('int32')\n",
    "numeric_features_df['zip_code'] = numeric_features_df['zip_code'].apply(lambda x: x//10000)"
   ]
  },
  {
   "cell_type": "code",
   "execution_count": 11,
   "id": "8fb55d2d",
   "metadata": {},
   "outputs": [],
   "source": [
    "one_hot_features = ['product', 'sub_product', 'company_response', 'state', 'issue']\n",
    "ohf_df = data[one_hot_features].copy()\n",
    "\n",
    "for feature in one_hot_features:\n",
    "    ohf_df[feature] = ohf_df[feature].astype(\"category\").cat.codes"
   ]
  },
  {
   "cell_type": "code",
   "execution_count": 6,
   "id": "ab097617",
   "metadata": {},
   "outputs": [],
   "source": [
    "text_features = ['consumer_complaint_narrative']\n",
    "text_features_df = data[text_features].copy()"
   ]
  },
  {
   "cell_type": "code",
   "execution_count": 12,
   "id": "53bd5a91",
   "metadata": {},
   "outputs": [
    {
     "name": "stdout",
     "output_type": "stream",
     "text": [
      "(66799, 11)\n",
      "(66799, 5)\n",
      "(66799, 1)\n"
     ]
    }
   ],
   "source": [
    "print(numeric_features_df.shape)\n",
    "print(ohf_df.shape)\n",
    "print(text_features_df.shape)"
   ]
  },
  {
   "cell_type": "code",
   "execution_count": 13,
   "id": "1868c1df",
   "metadata": {},
   "outputs": [],
   "source": [
    "final_df = pd.concat([text_features_df,ohf_df,numeric_features_df['zip_code']],axis=1)"
   ]
  },
  {
   "cell_type": "code",
   "execution_count": 14,
   "id": "176b6467",
   "metadata": {},
   "outputs": [
    {
     "data": {
      "text/plain": [
       "(66799, 7)"
      ]
     },
     "execution_count": 14,
     "metadata": {},
     "output_type": "execute_result"
    }
   ],
   "source": [
    "final_df.shape"
   ]
  },
  {
   "cell_type": "code",
   "execution_count": 15,
   "id": "92c68884",
   "metadata": {},
   "outputs": [
    {
     "data": {
      "text/plain": [
       "(66799, 11)"
      ]
     },
     "execution_count": 15,
     "metadata": {},
     "output_type": "execute_result"
    }
   ],
   "source": [
    "data.shape"
   ]
  },
  {
   "cell_type": "code",
   "execution_count": null,
   "id": "f76f358d",
   "metadata": {},
   "outputs": [],
   "source": [
    "X_train, X_test, y_train, y_test = train_test_split(X, y, test_size=0.33, random_state=42)"
   ]
  },
  {
   "cell_type": "code",
   "execution_count": 3,
   "id": "05188048",
   "metadata": {},
   "outputs": [],
   "source": [
    "#data = data.rename(columns = {'zipcode':'zip_code'})"
   ]
  },
  {
   "cell_type": "code",
   "execution_count": 4,
   "id": "33a7c953",
   "metadata": {},
   "outputs": [],
   "source": [
    "# data = data[data['consumer_complaint_narrative'].notnull()]\n",
    "# data = data.sample(frac=1, replace=False).reset_index(drop=True)\n",
    "# data = data.replace(r'\\s', ' ', regex=True)\n",
    "# data.to_csv('../data/input_data.csv', index=False)"
   ]
  },
  {
   "cell_type": "code",
   "execution_count": 8,
   "id": "163be312",
   "metadata": {},
   "outputs": [],
   "source": [
    "# data.columns = pre.change_column_names(data.columns)\n",
    "# data_pre = pre.column_selection(data)"
   ]
  },
  {
   "cell_type": "code",
   "execution_count": 9,
   "id": "9a590d96",
   "metadata": {},
   "outputs": [],
   "source": [
    "# data_pre['c'] = data_pre['consumer_disputed'].map({'Yes': 1, 'No': 0})\n",
    "# data_pre = data_pre.drop('consumer_disputed', axis=1)\n",
    "# data_pre = data_pre.rename(columns={\"c\": \"consumer_disputed\"})"
   ]
  },
  {
   "cell_type": "code",
   "execution_count": 10,
   "id": "a8762050",
   "metadata": {},
   "outputs": [
    {
     "data": {
      "text/plain": [
       "0    51229\n",
       "1    15577\n",
       "Name: consumer_disputed, dtype: int64"
      ]
     },
     "execution_count": 10,
     "metadata": {},
     "output_type": "execute_result"
    }
   ],
   "source": [
    "# data_pre['consumer_disputed'].value_counts()"
   ]
  },
  {
   "cell_type": "markdown",
   "id": "62789399",
   "metadata": {},
   "source": [
    "**Process Numeric Features**"
   ]
  },
  {
   "cell_type": "code",
   "execution_count": 3,
   "id": "53f37cc8",
   "metadata": {},
   "outputs": [],
   "source": [
    "numeric_features_df = data.copy()\n",
    "numeric_features_df['zip_code'] = numeric_features_df['zip_code'].str.replace('X', '0', regex=True)\n",
    "numeric_features_df['zip_code'] = numeric_features_df['zip_code'].str.replace(r'\\[|\\*|\\+|\\-|`|\\.|\\ |\\$|\\/|!|\\(', '0', regex=True)\n",
    "numeric_features_df['zip_code'] = numeric_features_df['zip_code'].fillna(0)\n",
    "numeric_features_df['zip_code'] = numeric_features_df['zip_code'].astype('int32')\n",
    "numeric_features_df['zip_code'] = numeric_features_df['zip_code'].apply(lambda x: x//10000)\n",
    "\n",
    "# import re\n",
    "# numeric_features = ['zip_code']\n",
    "# numeric_features_df = data_pre[numeric_features].copy()\n",
    "# for i in numeric_features:\n",
    "#     numeric_features_df[i] = numeric_features_df[i].apply(lambda x: x.replace('X', '0') if x==x else '0')\n",
    "#     numeric_features_df[i] = numeric_features_df[i].apply(lambda x: x.replace(r'\\[|\\*|\\+|\\-|`|\\.|\\ |\\$|\\/|!|\\(', '0'))\n",
    "#     numeric_features_df[i] = numeric_features_df[i].apply(lambda x: re.sub('[^a-zA-Z0-9]','', x))\n",
    "#     numeric_features_df[i] = numeric_features_df[i].fillna(0)\n",
    "#     numeric_features_df[i] = numeric_features_df[i].astype('int32')\n",
    "#     numeric_features_df[i] = numeric_features_df[i].apply(lambda x: x//10000)\n",
    "    \n",
    "numeric_x = [numeric_features_df['zip_code'].values]"
   ]
  },
  {
   "cell_type": "markdown",
   "id": "d7ffa6e5",
   "metadata": {},
   "source": [
    "**One Hot Features**"
   ]
  },
  {
   "cell_type": "code",
   "execution_count": 4,
   "id": "836c4caa",
   "metadata": {},
   "outputs": [],
   "source": [
    "one_hot_features = ['product', 'sub_product', 'company_response', 'state', 'issue']\n",
    "ohf_df = data.copy()\n",
    "\n",
    "for feature in one_hot_features:\n",
    "    ohf_df[feature] = ohf_df[feature].astype(\"category\").cat.codes\n",
    "    \n",
    "one_hot_x = [np.asarray(tf.keras.utils.to_categorical(ohf_df[feature_name].values)) for feature_name in one_hot_features]"
   ]
  },
  {
   "cell_type": "code",
   "execution_count": 5,
   "id": "40fc97c0",
   "metadata": {},
   "outputs": [
    {
     "name": "stdout",
     "output_type": "stream",
     "text": [
      "product\n",
      "11\n",
      "sub_product\n",
      "45\n",
      "company_response\n",
      "5\n",
      "state\n",
      "60\n",
      "issue\n",
      "90\n"
     ]
    }
   ],
   "source": [
    "for col in one_hot_features:\n",
    "    print(col)\n",
    "    print(data[col].nunique())"
   ]
  },
  {
   "cell_type": "markdown",
   "id": "8476a5e8",
   "metadata": {},
   "source": [
    "**Text Features**"
   ]
  },
  {
   "cell_type": "code",
   "execution_count": 6,
   "id": "bc9d43b4",
   "metadata": {},
   "outputs": [],
   "source": [
    "text_features = ['consumer_complaint_narrative']\n",
    "text_features_df = data[text_features].copy()\n",
    "embedding_x = [np.asarray(text_features_df[feature_name].values).reshape(-1) for feature_name in text_features]"
   ]
  },
  {
   "cell_type": "markdown",
   "id": "8bede53d",
   "metadata": {},
   "source": [
    "**Training Data**"
   ]
  },
  {
   "cell_type": "code",
   "execution_count": null,
   "id": "d5187dba",
   "metadata": {},
   "outputs": [],
   "source": [
    "# embedding_x = [np.asarray(text_features_df[feature_name].values).reshape(-1) for feature_name in text_features]\n",
    "# one_hot_x = [np.asarray(tf.keras.utils.to_categorical(ohf_df[feature_name].values)) for feature_name in one_hot_features]\n",
    "# numeric_x = [numeric_features_df['zip_code'].values]"
   ]
  },
  {
   "cell_type": "code",
   "execution_count": 8,
   "id": "0d747c8c",
   "metadata": {},
   "outputs": [],
   "source": [
    "X = one_hot_x + numeric_x + embedding_x\n",
    "y = np.asarray(data[\"consumer_disputed\"], dtype=np.uint8).reshape(-1)"
   ]
  },
  {
   "cell_type": "markdown",
   "id": "14551c5c",
   "metadata": {},
   "source": [
    "### Create Model"
   ]
  },
  {
   "cell_type": "code",
   "execution_count": 18,
   "id": "e27848e7",
   "metadata": {},
   "outputs": [],
   "source": [
    "import tensorflow_hub as hub\n",
    "\n",
    "def get_model(show_summary=True):\n",
    "    \"\"\"\n",
    "    Function defines a Keras model and returns the model as Keras object\n",
    "    Args:\n",
    "        num_products = 12\n",
    "        num_sub_products = 47\n",
    "        num_company_responses = 5\n",
    "        num_states = 66\n",
    "        num_issues = 91\n",
    "        show_summary\n",
    "    \"\"\"    \n",
    "    # one-hot categorical features\n",
    "    num_products = 11\n",
    "    num_sub_products = 45\n",
    "    num_company_responses = 5\n",
    "    num_states = 60\n",
    "    num_issues = 90\n",
    "\n",
    "    input_product = tf.keras.Input(shape=(num_products,), name=\"product_xf\")\n",
    "    input_sub_product = tf.keras.Input(shape=(num_sub_products,), name=\"sub_product_xf\")\n",
    "    input_company_response = tf.keras.Input(shape=(num_company_responses,), name=\"company_response_xf\")\n",
    "    input_state = tf.keras.Input(shape=(num_states,), name=\"state_xf\")\n",
    "    input_issue = tf.keras.Input(shape=(num_issues,), name=\"issue_xf\")\n",
    "    \n",
    "    # numeric features\n",
    "    input_zip_code = tf.keras.Input(shape=(1,), name=\"zip_code_xf\")\n",
    "\n",
    "    # text features\n",
    "    input_narrative = tf.keras.Input(shape=(1,), name=\"narrative_xf\", dtype=tf.string)\n",
    "\n",
    "    # embed text features\n",
    "    module_url = \"https://tfhub.dev/google/universal-sentence-encoder/4\"\n",
    "    embed = hub.KerasLayer(module_url)\n",
    "    reshaped_narrative = tf.reshape(input_narrative, [-1])\n",
    "    embed_narrative = embed(reshaped_narrative) \n",
    "    deep_ff = tf.keras.layers.Reshape((512, ), input_shape=(1, 512))(embed_narrative)\n",
    "    \n",
    "    deep = tf.keras.layers.Dense(256, activation='relu')(deep_ff)\n",
    "    deep = tf.keras.layers.Dense(64, activation='relu')(deep)\n",
    "    deep = tf.keras.layers.Dense(16, activation='relu')(deep)\n",
    "\n",
    "    wide_ff = tf.keras.layers.concatenate([input_product, input_sub_product, \n",
    "                                           input_company_response, \n",
    "                                           input_state, input_issue, \n",
    "                                           input_zip_code])\n",
    "    \n",
    "    wide = tf.keras.layers.Dense(16, activation='relu')(wide_ff)\n",
    "\n",
    "\n",
    "    both = tf.keras.layers.concatenate([deep, wide])\n",
    "\n",
    "    output = tf.keras.layers.Dense(1, activation='sigmoid')(both) \n",
    "\n",
    "    _inputs = [input_product, input_sub_product, input_company_response,  \n",
    "               input_state, input_issue, input_zip_code, input_narrative]\n",
    "\n",
    "    keras_model = tf.keras.models.Model(_inputs, output)\n",
    "    \n",
    "    optimizer = tf.keras.optimizers.Adam(learning_rate=0.001)\n",
    "    #optimizer = tf.keras.optimizers.SGD(learning_rate=0.001)\n",
    "    keras_model.compile(optimizer=optimizer,\n",
    "                        loss='binary_crossentropy',  \n",
    "                        metrics=[tf.keras.metrics.BinaryAccuracy(),\n",
    "                                 tf.keras.metrics.TruePositives(),\n",
    "                                 tf.keras.metrics.Precision(),\n",
    "                                 tf.keras.metrics.AUC(),\n",
    "                                 tf.keras.metrics.Accuracy(),\n",
    "                                 tf.keras.metrics.Recall()])\n",
    "    if show_summary:\n",
    "        keras_model.summary()\n",
    "\n",
    "    return keras_model"
   ]
  },
  {
   "cell_type": "code",
   "execution_count": 19,
   "id": "28267fd8",
   "metadata": {
    "scrolled": true
   },
   "outputs": [
    {
     "name": "stdout",
     "output_type": "stream",
     "text": [
      "Model: \"model\"\n",
      "__________________________________________________________________________________________________\n",
      "Layer (type)                    Output Shape         Param #     Connected to                     \n",
      "==================================================================================================\n",
      "narrative_xf (InputLayer)       [(None, 1)]          0                                            \n",
      "__________________________________________________________________________________________________\n",
      "tf.reshape (TFOpLambda)         (None,)              0           narrative_xf[0][0]               \n",
      "__________________________________________________________________________________________________\n",
      "keras_layer (KerasLayer)        (None, 512)          256797824   tf.reshape[0][0]                 \n",
      "__________________________________________________________________________________________________\n",
      "reshape (Reshape)               (None, 512)          0           keras_layer[0][0]                \n",
      "__________________________________________________________________________________________________\n",
      "dense (Dense)                   (None, 256)          131328      reshape[0][0]                    \n",
      "__________________________________________________________________________________________________\n",
      "product_xf (InputLayer)         [(None, 11)]         0                                            \n",
      "__________________________________________________________________________________________________\n",
      "sub_product_xf (InputLayer)     [(None, 45)]         0                                            \n",
      "__________________________________________________________________________________________________\n",
      "company_response_xf (InputLayer [(None, 5)]          0                                            \n",
      "__________________________________________________________________________________________________\n",
      "state_xf (InputLayer)           [(None, 60)]         0                                            \n",
      "__________________________________________________________________________________________________\n",
      "issue_xf (InputLayer)           [(None, 90)]         0                                            \n",
      "__________________________________________________________________________________________________\n",
      "zip_code_xf (InputLayer)        [(None, 1)]          0                                            \n",
      "__________________________________________________________________________________________________\n",
      "dense_1 (Dense)                 (None, 64)           16448       dense[0][0]                      \n",
      "__________________________________________________________________________________________________\n",
      "concatenate (Concatenate)       (None, 212)          0           product_xf[0][0]                 \n",
      "                                                                 sub_product_xf[0][0]             \n",
      "                                                                 company_response_xf[0][0]        \n",
      "                                                                 state_xf[0][0]                   \n",
      "                                                                 issue_xf[0][0]                   \n",
      "                                                                 zip_code_xf[0][0]                \n",
      "__________________________________________________________________________________________________\n",
      "dense_2 (Dense)                 (None, 16)           1040        dense_1[0][0]                    \n",
      "__________________________________________________________________________________________________\n",
      "dense_3 (Dense)                 (None, 16)           3408        concatenate[0][0]                \n",
      "__________________________________________________________________________________________________\n",
      "concatenate_1 (Concatenate)     (None, 32)           0           dense_2[0][0]                    \n",
      "                                                                 dense_3[0][0]                    \n",
      "__________________________________________________________________________________________________\n",
      "dense_4 (Dense)                 (None, 1)            33          concatenate_1[0][0]              \n",
      "==================================================================================================\n",
      "Total params: 256,950,081\n",
      "Trainable params: 152,257\n",
      "Non-trainable params: 256,797,824\n",
      "__________________________________________________________________________________________________\n"
     ]
    }
   ],
   "source": [
    "model = get_model(show_summary=True)"
   ]
  },
  {
   "cell_type": "code",
   "execution_count": 21,
   "id": "fe706ab0",
   "metadata": {},
   "outputs": [],
   "source": [
    "stringlist = []\n",
    "model.summary(print_fn=lambda x: stringlist.append(x))"
   ]
  },
  {
   "cell_type": "code",
   "execution_count": 22,
   "id": "dc071435",
   "metadata": {},
   "outputs": [
    {
     "data": {
      "text/plain": [
       "['Model: \"model\"',\n",
       " '__________________________________________________________________________________________________',\n",
       " 'Layer (type)                    Output Shape         Param #     Connected to                     ',\n",
       " '==================================================================================================',\n",
       " 'narrative_xf (InputLayer)       [(None, 1)]          0                                            ',\n",
       " '__________________________________________________________________________________________________',\n",
       " 'tf.reshape (TFOpLambda)         (None,)              0           narrative_xf[0][0]               ',\n",
       " '__________________________________________________________________________________________________',\n",
       " 'keras_layer (KerasLayer)        (None, 512)          256797824   tf.reshape[0][0]                 ',\n",
       " '__________________________________________________________________________________________________',\n",
       " 'reshape (Reshape)               (None, 512)          0           keras_layer[0][0]                ',\n",
       " '__________________________________________________________________________________________________',\n",
       " 'dense (Dense)                   (None, 256)          131328      reshape[0][0]                    ',\n",
       " '__________________________________________________________________________________________________',\n",
       " 'product_xf (InputLayer)         [(None, 11)]         0                                            ',\n",
       " '__________________________________________________________________________________________________',\n",
       " 'sub_product_xf (InputLayer)     [(None, 45)]         0                                            ',\n",
       " '__________________________________________________________________________________________________',\n",
       " 'company_response_xf (InputLayer [(None, 5)]          0                                            ',\n",
       " '__________________________________________________________________________________________________',\n",
       " 'state_xf (InputLayer)           [(None, 60)]         0                                            ',\n",
       " '__________________________________________________________________________________________________',\n",
       " 'issue_xf (InputLayer)           [(None, 90)]         0                                            ',\n",
       " '__________________________________________________________________________________________________',\n",
       " 'zip_code_xf (InputLayer)        [(None, 1)]          0                                            ',\n",
       " '__________________________________________________________________________________________________',\n",
       " 'dense_1 (Dense)                 (None, 64)           16448       dense[0][0]                      ',\n",
       " '__________________________________________________________________________________________________',\n",
       " 'concatenate (Concatenate)       (None, 212)          0           product_xf[0][0]                 ',\n",
       " '                                                                 sub_product_xf[0][0]             ',\n",
       " '                                                                 company_response_xf[0][0]        ',\n",
       " '                                                                 state_xf[0][0]                   ',\n",
       " '                                                                 issue_xf[0][0]                   ',\n",
       " '                                                                 zip_code_xf[0][0]                ',\n",
       " '__________________________________________________________________________________________________',\n",
       " 'dense_2 (Dense)                 (None, 16)           1040        dense_1[0][0]                    ',\n",
       " '__________________________________________________________________________________________________',\n",
       " 'dense_3 (Dense)                 (None, 16)           3408        concatenate[0][0]                ',\n",
       " '__________________________________________________________________________________________________',\n",
       " 'concatenate_1 (Concatenate)     (None, 32)           0           dense_2[0][0]                    ',\n",
       " '                                                                 dense_3[0][0]                    ',\n",
       " '__________________________________________________________________________________________________',\n",
       " 'dense_4 (Dense)                 (None, 1)            33          concatenate_1[0][0]              ',\n",
       " '==================================================================================================',\n",
       " 'Total params: 256,950,081',\n",
       " 'Trainable params: 152,257',\n",
       " 'Non-trainable params: 256,797,824',\n",
       " '__________________________________________________________________________________________________']"
      ]
     },
     "execution_count": 22,
     "metadata": {},
     "output_type": "execute_result"
    }
   ],
   "source": [
    "stringlist"
   ]
  },
  {
   "cell_type": "code",
   "execution_count": 25,
   "id": "c6264215",
   "metadata": {},
   "outputs": [
    {
     "name": "stdout",
     "output_type": "stream",
     "text": [
      "Model: \"model\" \n",
      "__________________________________________________________________________________________________ \n",
      "Layer (type)                    Output Shape         Param #     Connected to                      \n",
      "================================================================================================== \n",
      "narrative_xf (InputLayer)       [(None, 1)]          0                                             \n",
      "__________________________________________________________________________________________________ \n",
      "tf.reshape (TFOpLambda)         (None,)              0           narrative_xf[0][0]                \n",
      "__________________________________________________________________________________________________ \n",
      "keras_layer (KerasLayer)        (None, 512)          256797824   tf.reshape[0][0]                  \n",
      "__________________________________________________________________________________________________ \n",
      "reshape (Reshape)               (None, 512)          0           keras_layer[0][0]                 \n",
      "__________________________________________________________________________________________________ \n",
      "dense (Dense)                   (None, 256)          131328      reshape[0][0]                     \n",
      "__________________________________________________________________________________________________ \n",
      "product_xf (InputLayer)         [(None, 11)]         0                                             \n",
      "__________________________________________________________________________________________________ \n",
      "sub_product_xf (InputLayer)     [(None, 45)]         0                                             \n",
      "__________________________________________________________________________________________________ \n",
      "company_response_xf (InputLayer [(None, 5)]          0                                             \n",
      "__________________________________________________________________________________________________ \n",
      "state_xf (InputLayer)           [(None, 60)]         0                                             \n",
      "__________________________________________________________________________________________________ \n",
      "issue_xf (InputLayer)           [(None, 90)]         0                                             \n",
      "__________________________________________________________________________________________________ \n",
      "zip_code_xf (InputLayer)        [(None, 1)]          0                                             \n",
      "__________________________________________________________________________________________________ \n",
      "dense_1 (Dense)                 (None, 64)           16448       dense[0][0]                       \n",
      "__________________________________________________________________________________________________ \n",
      "concatenate (Concatenate)       (None, 212)          0           product_xf[0][0]                  \n",
      "                                                                 sub_product_xf[0][0]              \n",
      "                                                                 company_response_xf[0][0]         \n",
      "                                                                 state_xf[0][0]                    \n",
      "                                                                 issue_xf[0][0]                    \n",
      "                                                                 zip_code_xf[0][0]                 \n",
      "__________________________________________________________________________________________________ \n",
      "dense_2 (Dense)                 (None, 16)           1040        dense_1[0][0]                     \n",
      "__________________________________________________________________________________________________ \n",
      "dense_3 (Dense)                 (None, 16)           3408        concatenate[0][0]                 \n",
      "__________________________________________________________________________________________________ \n",
      "concatenate_1 (Concatenate)     (None, 32)           0           dense_2[0][0]                     \n",
      "                                                                 dense_3[0][0]                     \n",
      "__________________________________________________________________________________________________ \n",
      "dense_4 (Dense)                 (None, 1)            33          concatenate_1[0][0]               \n",
      "================================================================================================== \n",
      "Total params: 256,950,081 \n",
      "Trainable params: 152,257 \n",
      "Non-trainable params: 256,797,824 \n",
      "__________________________________________________________________________________________________\n"
     ]
    }
   ],
   "source": [
    "short_model_summary = \" \\n\".join(stringlist)\n",
    "print(short_model_summary)"
   ]
  },
  {
   "cell_type": "code",
   "execution_count": 14,
   "id": "59d41df6",
   "metadata": {
    "collapsed": true
   },
   "outputs": [
    {
     "name": "stdout",
     "output_type": "stream",
     "text": [
      "Epoch 1/5\n",
      "1670/1670 [==============================] - 154s 89ms/step - loss: 0.5296 - binary_accuracy: 0.7661 - true_positives_1: 16.6074 - precision_1: 0.2983 - accuracy: 0.0000e+00 - recall_1: 0.0017 - val_loss: 0.5071 - val_binary_accuracy: 0.7746 - val_true_positives_1: 71.0000 - val_precision_1: 0.6961 - val_accuracy: 0.0000e+00 - val_recall_1: 0.0233\n",
      "Epoch 2/5\n",
      "1670/1670 [==============================] - 149s 89ms/step - loss: 0.5078 - binary_accuracy: 0.7708 - true_positives_1: 226.4817 - precision_1: 0.5869 - accuracy: 0.0000e+00 - recall_1: 0.0347 - val_loss: 0.5075 - val_binary_accuracy: 0.7741 - val_true_positives_1: 96.0000 - val_precision_1: 0.6038 - val_accuracy: 0.0000e+00 - val_recall_1: 0.0315\n",
      "Epoch 3/5\n",
      "1670/1670 [==============================] - 147s 88ms/step - loss: 0.5063 - binary_accuracy: 0.7661 - true_positives_1: 336.3489 - precision_1: 0.5909 - accuracy: 0.0000e+00 - recall_1: 0.0541 - val_loss: 0.5080 - val_binary_accuracy: 0.7759 - val_true_positives_1: 115.0000 - val_precision_1: 0.6647 - val_accuracy: 0.0000e+00 - val_recall_1: 0.0377\n",
      "Epoch 4/5\n",
      "1670/1670 [==============================] - 142s 85ms/step - loss: 0.4973 - binary_accuracy: 0.7726 - true_positives_1: 495.5883 - precision_1: 0.6158 - accuracy: 0.0000e+00 - recall_1: 0.0815 - val_loss: 0.5168 - val_binary_accuracy: 0.7754 - val_true_positives_1: 152.0000 - val_precision_1: 0.6008 - val_accuracy: 0.0000e+00 - val_recall_1: 0.0498\n",
      "Epoch 5/5\n",
      "1670/1670 [==============================] - 152s 91ms/step - loss: 0.4923 - binary_accuracy: 0.7726 - true_positives_1: 641.7510 - precision_1: 0.6205 - accuracy: 0.0000e+00 - recall_1: 0.1025 - val_loss: 0.5115 - val_binary_accuracy: 0.7709 - val_true_positives_1: 329.0000 - val_precision_1: 0.4925 - val_accuracy: 0.0000e+00 - val_recall_1: 0.1078\n"
     ]
    },
    {
     "data": {
      "text/plain": [
       "<tensorflow.python.keras.callbacks.History at 0x7f98582f01c0>"
      ]
     },
     "execution_count": 14,
     "metadata": {},
     "output_type": "execute_result"
    }
   ],
   "source": [
    "model.fit(x=X, y=y,batch_size = 32,validation_split=0.2, epochs=5)"
   ]
  },
  {
   "cell_type": "code",
   "execution_count": 21,
   "id": "bd1cbe6e",
   "metadata": {},
   "outputs": [
    {
     "name": "stdout",
     "output_type": "stream",
     "text": [
      "2088/2088 [==============================] - 70s 34ms/step - loss: 0.5469 - binary_accuracy: 0.7668 - true_positives: 0.0000e+00 - precision: 0.0000e+00 - accuracy: 0.0000e+00 - recall: 0.0000e+00\n"
     ]
    },
    {
     "data": {
      "text/plain": [
       "[0.5468790531158447, 0.7668322920799255, 0.0, 0.0, 0.0, 0.0]"
      ]
     },
     "execution_count": 21,
     "metadata": {},
     "output_type": "execute_result"
    }
   ],
   "source": [
    "model.evaluate(X, y)"
   ]
  },
  {
   "cell_type": "code",
   "execution_count": 22,
   "id": "a53471d4",
   "metadata": {},
   "outputs": [
    {
     "data": {
      "text/plain": [
       "array([[0.33],\n",
       "       [0.29],\n",
       "       [0.33],\n",
       "       ...,\n",
       "       [0.2 ],\n",
       "       [0.27],\n",
       "       [0.24]], dtype=float32)"
      ]
     },
     "execution_count": 22,
     "metadata": {},
     "output_type": "execute_result"
    }
   ],
   "source": [
    "y_proba = model.predict(X)\n",
    "y_proba.round(2)"
   ]
  },
  {
   "cell_type": "code",
   "execution_count": 37,
   "id": "fe1c36b9",
   "metadata": {},
   "outputs": [],
   "source": [
    "for index,value in enumerate(y_proba):\n",
    "    if value[0]>0.5:\n",
    "        print(index,value)\n",
    "        break"
   ]
  },
  {
   "cell_type": "code",
   "execution_count": 28,
   "id": "a2c98045",
   "metadata": {},
   "outputs": [
    {
     "data": {
      "text/plain": [
       "0.32979256"
      ]
     },
     "execution_count": 28,
     "metadata": {},
     "output_type": "execute_result"
    }
   ],
   "source": [
    "y_proba[760][0]"
   ]
  },
  {
   "cell_type": "code",
   "execution_count": 30,
   "id": "17a03130",
   "metadata": {},
   "outputs": [
    {
     "data": {
      "text/plain": [
       "1"
      ]
     },
     "execution_count": 30,
     "metadata": {},
     "output_type": "execute_result"
    }
   ],
   "source": [
    "y[0]"
   ]
  },
  {
   "cell_type": "code",
   "execution_count": null,
   "id": "202c4c30",
   "metadata": {},
   "outputs": [],
   "source": []
  }
 ],
 "metadata": {
  "kernelspec": {
   "display_name": "Python 3",
   "language": "python",
   "name": "python3"
  },
  "language_info": {
   "codemirror_mode": {
    "name": "ipython",
    "version": 3
   },
   "file_extension": ".py",
   "mimetype": "text/x-python",
   "name": "python",
   "nbconvert_exporter": "python",
   "pygments_lexer": "ipython3",
   "version": "3.8.5"
  }
 },
 "nbformat": 4,
 "nbformat_minor": 5
}
